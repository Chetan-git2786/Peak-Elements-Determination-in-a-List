{
  "nbformat": 4,
  "nbformat_minor": 0,
  "metadata": {
    "colab": {
      "name": "Peak_Elem_Determination_in_List.ipynb",
      "provenance": [],
      "collapsed_sections": []
    },
    "kernelspec": {
      "name": "python3",
      "display_name": "Python 3"
    },
    "language_info": {
      "name": "python"
    }
  },
  "cells": [
    {
      "cell_type": "code",
      "metadata": {
        "id": "lJwfAQdaHRC1"
      },
      "source": [
        "# Peak-Elements-Determination-in-a-List\n",
        "Print Peak Elements in a list\n",
        "\n",
        "A=[15,1,3,4,5,7,6,4,5,10,1]\n",
        "print(A)\n",
        "\n",
        "# Boundary case 1\n",
        "if A[0]>=A[1]:     # Boundary case which checks whether the peak element occurs at the first index\n",
        "  print(A[0])      # Returns the value in case, the peak element falls at the first index\n",
        "  \n",
        "  \n",
        "# Returns Peak element if present within the portion of the list excluding the first and the last indices  \n",
        "for i in range(1,len(A)-1):   \n",
        "   if(A[i]>=A[i-1] and (A[i]>=A[i+1])):\n",
        "    print(A[i])\n",
        "\n",
        "# Boundary case 2    \n",
        "if A[len(A)-1]>=A[len(A)-2]: # Boundary case which checks whether the peak element occurs at the last index\n",
        "  print(A[len[l]-1])         # Returns the value in case, the peak element falls at the first index"
      ],
      "execution_count": null,
      "outputs": []
    }
  ]
}